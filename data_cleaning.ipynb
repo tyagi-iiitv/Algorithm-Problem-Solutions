{
  "nbformat": 4,
  "nbformat_minor": 0,
  "metadata": {
    "colab": {
      "name": "data_cleaning.ipynb",
      "provenance": [],
      "collapsed_sections": [],
      "include_colab_link": true
    },
    "kernelspec": {
      "name": "python3",
      "display_name": "Python 3"
    }
  },
  "cells": [
    {
      "cell_type": "markdown",
      "metadata": {
        "id": "view-in-github",
        "colab_type": "text"
      },
      "source": [
        "<a href=\"https://colab.research.google.com/github/tyagi-iiitv/Algorithm-Problem-Solutions/blob/master/data_cleaning.ipynb\" target=\"_parent\"><img src=\"https://colab.research.google.com/assets/colab-badge.svg\" alt=\"Open In Colab\"/></a>"
      ]
    },
    {
      "cell_type": "code",
      "metadata": {
        "id": "gL87s44I43Vx",
        "colab_type": "code",
        "outputId": "ab988a25-b5f8-41fd-bf9d-1ce9598a259b",
        "colab": {
          "base_uri": "https://localhost:8080/",
          "height": 123
        }
      },
      "source": [
        "from google.colab import drive\n",
        "drive.mount('/content/drive')"
      ],
      "execution_count": 2,
      "outputs": [
        {
          "output_type": "stream",
          "text": [
            "Go to this URL in a browser: https://accounts.google.com/o/oauth2/auth?client_id=947318989803-6bn6qk8qdgf4n4g3pfee6491hc0brc4i.apps.googleusercontent.com&redirect_uri=urn%3Aietf%3Awg%3Aoauth%3A2.0%3Aoob&scope=email%20https%3A%2F%2Fwww.googleapis.com%2Fauth%2Fdocs.test%20https%3A%2F%2Fwww.googleapis.com%2Fauth%2Fdrive%20https%3A%2F%2Fwww.googleapis.com%2Fauth%2Fdrive.photos.readonly%20https%3A%2F%2Fwww.googleapis.com%2Fauth%2Fpeopleapi.readonly&response_type=code\n",
            "\n",
            "Enter your authorization code:\n",
            "··········\n",
            "Mounted at /content/drive\n"
          ],
          "name": "stdout"
        }
      ]
    },
    {
      "cell_type": "code",
      "metadata": {
        "id": "uKSPn-Xl53UZ",
        "colab_type": "code",
        "colab": {}
      },
      "source": [
        "import csv"
      ],
      "execution_count": 0,
      "outputs": []
    },
    {
      "cell_type": "code",
      "metadata": {
        "id": "fA5xI_fR44cS",
        "colab_type": "code",
        "colab": {}
      },
      "source": [
        "file = 'drive/My Drive/hospital project/data/file1.DAT'"
      ],
      "execution_count": 0,
      "outputs": []
    },
    {
      "cell_type": "code",
      "metadata": {
        "id": "HHH3Xlmv5q5Y",
        "colab_type": "code",
        "outputId": "09a2bdbc-d119-4a32-81ff-991a9912d124",
        "colab": {
          "base_uri": "https://localhost:8080/",
          "height": 106
        }
      },
      "source": [
        "with open(file) as dat_file, open('file1.csv', 'w') as csv_file:\n",
        "  csv_writer = csv.writer(csv_file)\n",
        "  count = 1\n",
        "  for line in dat_file:\n",
        "    print(line)\n",
        "#     values = line.split(' ')\n",
        "#     new_vals = []\n",
        "#     for value in values:\n",
        "#       if value != '':\n",
        "#         new_vals.append(value)\n",
        "#     print(new_vals[:-1])\n",
        "    if count == 0:\n",
        "      break\n",
        "    count -= 1"
      ],
      "execution_count": 6,
      "outputs": [
        {
          "output_type": "stream",
          "text": [
            "201400000000014001002                                                                        196710  046000F012                                    BELFAST        NY14711    02010                 00000000371Cuba Memorial Hospital Inc                                            1020226700          90335341                81             A09                           0000000000371                                              00000000                                                   00000000                                                   00000000                                                   00000000                                                   00000000                     01      000000000 000000000115449220140415010IC                             Y   201312242014010120131224TUE18 20140101WED1200080000000000000000                                                                                                                                                                                                                                                                                                                                                                                                                                                                                                                                                                         00111113172981  6826    79029  127801  1                                                                                                                                                                                197                                                                                                                                                                                                                                                                                                                                                                                                              00000000000000   603096030960309               383091238309123830912     999999999NN00000095468500006400000000314685000000000000000000000000000000000120A0000640000DA0000000800000000000251R0000119125  0000000000000000000252R0000006310  0000000000000000000258R0000001100  0000000000000000000270R0000005250  0000000000000000000272R0000008800  0000000000000000000279R0000005800  0000000000000000000301R0000008100  0000000000000000000305R0000003800  0000000000000000000456R0000028275  000000000000000000                                                                                                                                                                                                                                                                                                                      k910LPXub9u9fPF/jo7hsg45sUWfGYEUZmB/kETfDE/Q                                                                                                                                                                                                                                                                                                                                                                                                                                                                                                                                                                                                                                                                                                                                                                                                                                                                                                                                                                                                                                                                                                                                                                                                                                                                                                                                                                                                                                                                                                                                                                                                                                                                                                                                                                                                                                                                                                                                                                                                                                                                                                                                                                                                                                                                                                              \n",
            "\n",
            "201400000000020001001                                                                        195103  062000F012                                    HINSDALE       NY14743    04010                 00000000371Cuba Memorial Hospital Inc                                            1020226700          90335341                62             GBL                   00301   0000000000371                                              00000000                                                   00000000                                                   00000000                                                   00000000                                                   00000000                     06      000000000 000000000115449220140415010IC                             Y   201312292014010120131229SUN11 20140101WED1000030003000000000000                                                                                                                                                                                                                                                                                                                                                                                                                                                                                                                                                                         00111112178909  56211   27651  1                                                                                                                                                                                        146                                                                                                                                                                                                                                                                                                                                                                                                              00000000000000   392063920639206               244061124406112440611     999999999NN00000114627500002700000000876275000000000000000000000000000000000110A0000270000DA0000000300000000000251R0000741700  0000000000000000000258R0000003650  0000000000000000000270R0000001650  0000000000000000000272R0000001250  0000000000000000000279R0000005800  0000000000000000000352R0000033400  0000000000000000000456R0000019550  0000000000000000000981R0000028275  0000000000000000000987R0000041000  000000000000000000                                                                                                                                                                                                                                                                                                                      7ED5FXm6VTkPvOg1zOxjzgNLi3jfCljjb6qRtKzDcLWQ                                                                                                                                                                                                                                                                                                                                                                                                                                                                                                                                                                                                                                                                                                                                                                                                                                                                                                                                                                                                                                                                                                                                                                                                                                                                                                                                                                                                                                                                                                                                                                                                                                                                                                                                                                                                                                                                                                                                                                                                                                                                                                                                                                                                                                                                                                              \n",
            "\n"
          ],
          "name": "stdout"
        }
      ]
    },
    {
      "cell_type": "code",
      "metadata": {
        "id": "PwJJb1bI6DRo",
        "colab_type": "code",
        "colab": {}
      },
      "source": [
        ""
      ],
      "execution_count": 0,
      "outputs": []
    }
  ]
}